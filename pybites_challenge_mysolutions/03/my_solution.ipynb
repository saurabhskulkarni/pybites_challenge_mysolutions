{
 "cells": [
  {
   "cell_type": "code",
   "execution_count": 91,
   "metadata": {},
   "outputs": [],
   "source": [
    "from collections import Counter\n",
    "from difflib import SequenceMatcher\n",
    "from itertools import product\n",
    "import re\n",
    "\n",
    "REPLACE_CHARS=str.maketrans('-',' ')\n",
    "IDENTICAL = 1.0\n",
    "TOP_NUMBER = 10\n",
    "RSS_FEED = 'rss.xml'\n",
    "SIMILAR = 0.87\n",
    "TAG_HTML = re.compile(r'<category>([^<]+)</category>')"
   ]
  },
  {
   "cell_type": "code",
   "execution_count": 97,
   "metadata": {},
   "outputs": [],
   "source": [
    "def get_tags():\n",
    "    \"\"\"Find all tags (TAG_HTML) in RSS_FEED.\n",
    "    Replace dash with whitespace.\n",
    "    Hint: use TAG_HTML.findall\"\"\"\n",
    "    \n",
    "    with open(RSS_FEED) as f:\n",
    "        tags=TAG_HTML.findall(f.read().lower())\n",
    "    return [tag.translate(REPLACE_CHARS) for tag in tags]"
   ]
  },
  {
   "cell_type": "code",
   "execution_count": 101,
   "metadata": {},
   "outputs": [],
   "source": [
    "tags=get_tags()"
   ]
  },
  {
   "cell_type": "code",
   "execution_count": 104,
   "metadata": {},
   "outputs": [
    {
     "name": "stdout",
     "output_type": "stream",
     "text": [
      "[('python', 10), ('learning', 7), ('tips', 6), ('tricks', 5), ('github', 5), ('cleancode', 5), ('best practices', 5), ('pythonic', 4), ('collections', 4), ('beginners', 4)]\n"
     ]
    }
   ],
   "source": [
    "print(Counter(tags).most_common(TOP_NUMBER))"
   ]
  },
  {
   "cell_type": "code",
   "execution_count": 103,
   "metadata": {},
   "outputs": [
    {
     "data": {
      "text/plain": [
       "collections.Counter"
      ]
     },
     "execution_count": 103,
     "metadata": {},
     "output_type": "execute_result"
    }
   ],
   "source": [
    "type(Counter(tags))"
   ]
  },
  {
   "cell_type": "code",
   "execution_count": null,
   "metadata": {},
   "outputs": [],
   "source": []
  }
 ],
 "metadata": {
  "kernelspec": {
   "display_name": "Python 3",
   "language": "python",
   "name": "python3"
  },
  "language_info": {
   "codemirror_mode": {
    "name": "ipython",
    "version": 3
   },
   "file_extension": ".py",
   "mimetype": "text/x-python",
   "name": "python",
   "nbconvert_exporter": "python",
   "pygments_lexer": "ipython3",
   "version": "3.6.5"
  }
 },
 "nbformat": 4,
 "nbformat_minor": 2
}
