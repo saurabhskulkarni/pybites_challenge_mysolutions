{
 "cells": [
  {
   "cell_type": "code",
   "execution_count": 1,
   "metadata": {},
   "outputs": [],
   "source": [
    "from collections import Counter\n",
    "from difflib import SequenceMatcher\n",
    "from itertools import product\n",
    "import re\n",
    "\n",
    "IDENTICAL = 1.0\n",
    "TOP_NUMBER = 10\n",
    "RSS_FEED = 'rss.xml'\n",
    "SIMILAR = 0.87\n",
    "TAG_HTML = re.compile(r'<category>([^<]+)</category>')"
   ]
  },
  {
   "cell_type": "code",
   "execution_count": 2,
   "metadata": {},
   "outputs": [],
   "source": [
    "#This function will get all the tags from RSS feed \n",
    "#Get a list of all tags using findall\n",
    "\n",
    "def get_tags():\n",
    "    \"\"\"Find all tags (TAG_HTML) in RSS_FEED.\n",
    "    Replace dash with whitespace.\n",
    "    Hint: use TAG_HTML.findall\"\"\"\n",
    "    \n",
    "    #Using with to open file. No need to use ElementTree to read RSS file.\n",
    "    with open(RSS_FEED) as f:\n",
    "        #Using findall from regex to read file and lowercase all letters\n",
    "        tags=TAG_HTML.findall(f.read().lower())\n",
    "    #Replace all '-' with whitespaces using translate and maketrans\n",
    "    REPLACE_CHARS=str.maketrans('-',' ')\n",
    "    return [tag.translate(REPLACE_CHARS) for tag in tags]"
   ]
  },
  {
   "cell_type": "code",
   "execution_count": 3,
   "metadata": {},
   "outputs": [],
   "source": [
    "#This function will get top 10 most used tags from the list tags generated in the get_tags function\n",
    "#Argument for this function is tags\n",
    "def get_top_tags(tags):\n",
    "    return Counter(tags).most_common(TOP_NUMBER)\n",
    "    return "
   ]
  },
  {
   "cell_type": "code",
   "execution_count": 4,
   "metadata": {},
   "outputs": [],
   "source": [
    "#Function to compare tags and generate a similarity index.\n",
    "#Similarity index must lie between IDENTICAL and SIMILAR. Must be greater than SIMILAR. \n",
    "\n",
    "def get_similarities(tags):\n",
    "    for pair in product(tags,tags):\n",
    "        if pair[0][0]!=pair[1][0]:\n",
    "            continue\n",
    "        pair=tuple(sorted(pair)) \n",
    "        similarity=SequenceMatcher(None,*pair).ratio()\n",
    "        if SIMILAR<similarity<IDENTICAL:\n",
    "            yield pair"
   ]
  },
  {
   "cell_type": "code",
   "execution_count": 6,
   "metadata": {},
   "outputs": [
    {
     "name": "stdout",
     "output_type": "stream",
     "text": [
      "*Top 10 tags:\n",
      "python               10\n",
      "learning             7\n",
      "tips                 6\n",
      "tricks               5\n",
      "github               5\n",
      "cleancode            5\n",
      "best practices       5\n",
      "pythonic             4\n",
      "collections          4\n",
      "beginners            4\n",
      "\n",
      "*Similar tags:\n",
      "game                games\n",
      "challenge           challenges\n",
      "generator           generators\n"
     ]
    }
   ],
   "source": [
    "#Main function\n",
    "if __name__==\"__main__\":\n",
    "    tags=get_tags()\n",
    "    top_tags=get_top_tags(tags)\n",
    "    print('*Top {} tags:'.format(TOP_NUMBER))\n",
    "    for tag,count in top_tags:\n",
    "        print('{:<20} {}'.format(tag,count))\n",
    "    similar_tags=dict(get_similarities(tags))\n",
    "    print()\n",
    "    print('*Similar tags:')\n",
    "    for singular,plural in similar_tags.items():\n",
    "        print('{:<20}{}'.format(singular,plural))"
   ]
  },
  {
   "cell_type": "code",
   "execution_count": null,
   "metadata": {},
   "outputs": [],
   "source": []
  }
 ],
 "metadata": {
  "kernelspec": {
   "display_name": "Python 3",
   "language": "python",
   "name": "python3"
  },
  "language_info": {
   "codemirror_mode": {
    "name": "ipython",
    "version": 3
   },
   "file_extension": ".py",
   "mimetype": "text/x-python",
   "name": "python",
   "nbconvert_exporter": "python",
   "pygments_lexer": "ipython3",
   "version": "3.6.5"
  }
 },
 "nbformat": 4,
 "nbformat_minor": 2
}
